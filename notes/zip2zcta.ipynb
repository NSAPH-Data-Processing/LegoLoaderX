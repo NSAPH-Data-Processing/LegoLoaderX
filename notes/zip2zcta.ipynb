{
 "cells": [
  {
   "cell_type": "code",
   "execution_count": 1,
   "id": "50984ddc",
   "metadata": {},
   "outputs": [],
   "source": [
    "import pyarrow\n",
    "import pandas as pd"
   ]
  },
  {
   "cell_type": "code",
   "execution_count": 3,
   "id": "90c303c5",
   "metadata": {},
   "outputs": [],
   "source": [
    "# read in zip2zcta xwalk\n",
    "df = pd.read_parquet(\"../data/input/lego/geoboundaries/zip2zcta__uds/xwalk/zip2zcta_master_xwalk.parquet\")"
   ]
  },
  {
   "cell_type": "code",
   "execution_count": 9,
   "id": "fde00786",
   "metadata": {},
   "outputs": [
    {
     "data": {
      "text/plain": [
       "<bound method NDFrame.head of          zip   zcta  year_match census_edition state  is_area  is_self_mapped  \\\n",
       "0      00501  11742        2021      ZCTA5CE20    NY    False           False   \n",
       "1      00544  11742        2021      ZCTA5CE20    NY    False           False   \n",
       "2      00601  00601        2021      ZCTA5CE20    PR     True            True   \n",
       "3      00602  00602        2021      ZCTA5CE20    PR     True            True   \n",
       "4      00603  00603        2021      ZCTA5CE20    PR     True            True   \n",
       "...      ...    ...         ...            ...   ...      ...             ...   \n",
       "41471  99926  99926        2021      ZCTA5CE20    AK     True            True   \n",
       "41472  99927  99927        2021      ZCTA5CE20    AK     True            True   \n",
       "41473  99928  99901        2021      ZCTA5CE20    AK    False           False   \n",
       "41474  99929  99929        2021      ZCTA5CE20    AK     True            True   \n",
       "41475  99950  99921        2021      ZCTA5CE20    AK     True           False   \n",
       "\n",
       "       is_post_office                  info  min_match  max_match  \\\n",
       "0                True  Spatial join to ZCTA       2009       2021   \n",
       "1                True  Spatial join to ZCTA       2009       2021   \n",
       "2               False      Zip matches ZCTA       2009       2021   \n",
       "3               False      Zip matches ZCTA       2009       2021   \n",
       "4               False      Zip matches ZCTA       2009       2021   \n",
       "...               ...                   ...        ...        ...   \n",
       "41471           False      Zip matches ZCTA       2009       2021   \n",
       "41472           False      Zip matches ZCTA       2009       2021   \n",
       "41473            True  Spatial join to ZCTA       2009       2021   \n",
       "41474           False      Zip matches ZCTA       2009       2021   \n",
       "41475           False  Spatial join to ZCTA       2009       2021   \n",
       "\n",
       "       year_matches  zcta_matches  \n",
       "0                13             1  \n",
       "1                13             1  \n",
       "2                13             1  \n",
       "3                13             1  \n",
       "4                13             1  \n",
       "...             ...           ...  \n",
       "41471            13             1  \n",
       "41472            13             1  \n",
       "41473            11             1  \n",
       "41474            13             1  \n",
       "41475            13             2  \n",
       "\n",
       "[41476 rows x 13 columns]>"
      ]
     },
     "execution_count": 9,
     "metadata": {},
     "output_type": "execute_result"
    }
   ],
   "source": [
    "df.head"
   ]
  },
  {
   "cell_type": "code",
   "execution_count": 12,
   "id": "8073bf84",
   "metadata": {},
   "outputs": [
    {
     "name": "stdout",
     "output_type": "stream",
     "text": [
      "33144\n",
      "['ZCTA5CE20' 'ZCTA5CE10']\n",
      "360\n"
     ]
    }
   ],
   "source": [
    "print(len(df[\"zcta\"].unique()))\n",
    "print(df[\"census_edition\"].unique())\n",
    "print(len(df[df[\"census_edition\"] == \"ZCTA5CE10\"]))"
   ]
  }
 ],
 "metadata": {
  "kernelspec": {
   "display_name": "legoloaderX",
   "language": "python",
   "name": "python3"
  },
  "language_info": {
   "codemirror_mode": {
    "name": "ipython",
    "version": 3
   },
   "file_extension": ".py",
   "mimetype": "text/x-python",
   "name": "python",
   "nbconvert_exporter": "python",
   "pygments_lexer": "ipython3",
   "version": "3.11.11"
  }
 },
 "nbformat": 4,
 "nbformat_minor": 5
}
