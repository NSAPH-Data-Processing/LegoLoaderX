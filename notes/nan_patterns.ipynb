{
 "cells": [
  {
   "cell_type": "code",
   "execution_count": null,
   "metadata": {},
   "outputs": [],
   "source": [
    "import pandas as pd\n",
    "import glob\n",
    "import os"
   ]
  },
  {
   "cell_type": "code",
   "execution_count": null,
   "metadata": {},
   "outputs": [],
   "source": [
    "# read in example gridmet file\n",
    "\n",
    "file_base = \"../data/output/gridmet/\"\n",
    "var = \"pr\"\n",
    "year = \"2014\"\n",
    "month = \"08\"\n",
    "day = \"14\"\n",
    "filename = f\"{file_base}/{var}/{var}__{year}{month}{day}.parquet\"\n",
    "\n",
    "df = pd.read_parquet(filename)\n",
    "z2c_df = pd.read_parquet(f\"../data/input/lego/geoboundaries/us_geoboundaries__census/us_xwalks__census/zcta2county_yearly/us_xwalks__census__zcta2county_yearly__{year}.parquet\")\n"
   ]
  },
  {
   "cell_type": "code",
   "execution_count": 14,
   "metadata": {},
   "outputs": [],
   "source": [
    "def get_na_list(filename, col):\n",
    "    df = pd.read_parquet(filename)\n",
    "    return(df[\"zcta\"][df[col].isna()])"
   ]
  },
  {
   "cell_type": "code",
   "execution_count": null,
   "metadata": {},
   "outputs": [],
   "source": [
    "# read in county xwalk\n",
    "base_dir = \"data/output/gridmet/pr\"\n",
    "\n",
    "# Get all matching parquet files\n",
    "files = glob.glob(os.path.join(base_dir, \"*__*__*.parquet\"))\n",
    "for file in files:\n",
    "\n",
    "df_lst = get_na_list(filename, var)\n",
    "mg_df = pd.merge(z2c_df, df_lst)\n",
    "mg_df_sorted = mg_df.sort_values(by=['zcta', 'pop_pct'])  # Arrange pop_pct within each group\n",
    "mg_df_head = mg_df_sorted.groupby('zcta').tail(1)\n"
   ]
  },
  {
   "cell_type": "code",
   "execution_count": 23,
   "metadata": {},
   "outputs": [
    {
     "data": {
      "text/plain": [
       "county_state\n",
       "02    238\n",
       "72    131\n",
       "15     94\n",
       "12      7\n",
       "23      1\n",
       "06      1\n",
       "Name: count, dtype: int64"
      ]
     },
     "execution_count": 23,
     "metadata": {},
     "output_type": "execute_result"
    }
   ],
   "source": [
    "mg_df_head['county_state'].value_counts()"
   ]
  }
 ],
 "metadata": {
  "kernelspec": {
   "display_name": "legoloaderX",
   "language": "python",
   "name": "python3"
  },
  "language_info": {
   "codemirror_mode": {
    "name": "ipython",
    "version": 3
   },
   "file_extension": ".py",
   "mimetype": "text/x-python",
   "name": "python",
   "nbconvert_exporter": "python",
   "pygments_lexer": "ipython3",
   "version": "3.11.11"
  }
 },
 "nbformat": 4,
 "nbformat_minor": 2
}
